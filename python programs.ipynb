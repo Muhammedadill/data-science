{
 "cells": [
  {
   "cell_type": "code",
   "execution_count": 2,
   "id": "731cfa7b",
   "metadata": {},
   "outputs": [
    {
     "name": "stdout",
     "output_type": "stream",
     "text": [
      "enter number:1 4 7 9 8\n",
      "largest number is 9\n",
      "largest number using max() :  9\n"
     ]
    }
   ],
   "source": [
    "#biggest in the list\n",
    "\n",
    "n=input(\"enter number:\").split()\n",
    "l=[int(i) for i in n]\n",
    "m=l[0]\n",
    "for i in l:\n",
    "    if i>m:\n",
    "        m=i\n",
    "print(\"largest number is\",m)\n",
    "print(\"largest number using max() : \",max(l))"
   ]
  },
  {
   "cell_type": "code",
   "execution_count": 3,
   "id": "d45b8c13",
   "metadata": {},
   "outputs": [
    {
     "name": "stdout",
     "output_type": "stream",
     "text": [
      "Enter values : 1 2 1 2 3\n",
      "['1', '2', '3']\n"
     ]
    }
   ],
   "source": [
    "#avoid duplicate value in list\n",
    "n=input(\"Enter values : \").split()\n",
    "l=[]\n",
    "for i in n:\n",
    "    if i not in l:\n",
    "        l.append(i)\n",
    "print(l)"
   ]
  },
  {
   "cell_type": "code",
   "execution_count": 4,
   "id": "7ec54bcb",
   "metadata": {},
   "outputs": [
    {
     "name": "stdout",
     "output_type": "stream",
     "text": [
      "tuple is (1, 2, 3, 4)\n",
      "dictionary is {0: 1, 1: 2, 2: 3, 3: 4}\n"
     ]
    }
   ],
   "source": [
    "#convert tuple into dictionary\n",
    "t=(1,2,3,4)\n",
    "print(\"tuple is\",t)\n",
    "\n",
    "t=dict(enumerate(t))\n",
    "print(\"dictionary is\",t)"
   ]
  },
  {
   "cell_type": "code",
   "execution_count": 5,
   "id": "9928436c",
   "metadata": {},
   "outputs": [
    {
     "name": "stdout",
     "output_type": "stream",
     "text": [
      "merged dictionary:  {'a': 1, 'b': 2, 'c': 3, 'd': 4}\n"
     ]
    }
   ],
   "source": [
    "#merging two dictionary\n",
    "dict1 = {'a': 1, 'b': 2}\n",
    "dict2 = {'c': 3, 'd': 4}\n",
    "\n",
    "dict1.update(dict2)\n",
    "print(\"merged dictionary: \",dict1)"
   ]
  },
  {
   "cell_type": "code",
   "execution_count": 6,
   "id": "354e8a14",
   "metadata": {},
   "outputs": [
    {
     "name": "stdout",
     "output_type": "stream",
     "text": [
      "True\n",
      "Common numbers in two lists: [3, 4]\n"
     ]
    }
   ],
   "source": [
    "#common values in list\n",
    "l1 = [1, 2, 3, 4]\n",
    "l2 = [3, 4, 5, 6]\n",
    "l3 = []\n",
    "\n",
    "for i in l1:\n",
    "    if i in l2:\n",
    "        l3.append(i)\n",
    "\n",
    "if l3:\n",
    "    print(\"True\")\n",
    "    print(\"Common numbers in two lists:\", l3)\n",
    "else:\n",
    "    print(\"False\")"
   ]
  },
  {
   "cell_type": "code",
   "execution_count": null,
   "id": "6dc1f05d",
   "metadata": {},
   "outputs": [],
   "source": []
  }
 ],
 "metadata": {
  "kernelspec": {
   "display_name": "Python 3 (ipykernel)",
   "language": "python",
   "name": "python3"
  },
  "language_info": {
   "codemirror_mode": {
    "name": "ipython",
    "version": 3
   },
   "file_extension": ".py",
   "mimetype": "text/x-python",
   "name": "python",
   "nbconvert_exporter": "python",
   "pygments_lexer": "ipython3",
   "version": "3.10.12"
  }
 },
 "nbformat": 4,
 "nbformat_minor": 5
}
